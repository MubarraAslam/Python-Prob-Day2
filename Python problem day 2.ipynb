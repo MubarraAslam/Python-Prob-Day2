{
 "cells": [
  {
   "cell_type": "code",
   "execution_count": null,
   "id": "90151ad6-c81c-4019-8e34-6e8b0ff158cf",
   "metadata": {},
   "outputs": [],
   "source": [
    "''''Calculate the volume (Length x width x height) of objects. Program should be user \n",
    "input value based.'''"
   ]
  },
  {
   "cell_type": "code",
   "execution_count": 2,
   "id": "e7232d9a-1350-462a-a8d1-dec535f67a39",
   "metadata": {},
   "outputs": [
    {
     "name": "stdin",
     "output_type": "stream",
     "text": [
      "enter length here 12\n",
      "enter width here 13\n",
      "enter height here 14\n"
     ]
    },
    {
     "name": "stdout",
     "output_type": "stream",
     "text": [
      "2184\n"
     ]
    }
   ],
   "source": [
    "input1=int(input(\"enter length here\"))\n",
    "input2=int(input(\"enter width here\"))\n",
    "input3=int(input(\"enter height here\"))\n",
    "result=input1*input2*input3\n",
    "print(result)"
   ]
  },
  {
   "cell_type": "code",
   "execution_count": null,
   "id": "718b121e-8e51-4e8c-9563-f27db9df0ef3",
   "metadata": {},
   "outputs": [],
   "source": []
  },
  {
   "cell_type": "code",
   "execution_count": null,
   "id": "fcd5c97a-7650-4f35-b09c-03a6d273244c",
   "metadata": {},
   "outputs": [],
   "source": [
    "#Question 2\n",
    "'''Convert the Celsius to Fahrenheit and vice versa. Program should be user input value \n",
    "based. Use the following equation of conversion'''"
   ]
  },
  {
   "cell_type": "code",
   "execution_count": 4,
   "id": "c29f6052-8f47-405a-86bb-c908eeca1812",
   "metadata": {},
   "outputs": [
    {
     "name": "stdin",
     "output_type": "stream",
     "text": [
      "Enter temperature here 12\n"
     ]
    },
    {
     "name": "stdout",
     "output_type": "stream",
     "text": [
      "Temperature in Fahrenheiet is  53.6\n"
     ]
    }
   ],
   "source": [
    "#C -> F \n",
    "\n",
    "C=int(input(\"Enter temperature here\"))\n",
    "F=(C*9/5)+32\n",
    "print(\"Temperature in Fahrenheiet is \",F) "
   ]
  },
  {
   "cell_type": "code",
   "execution_count": null,
   "id": "9d625508-ec7f-4931-88ce-3e9216df7d85",
   "metadata": {},
   "outputs": [],
   "source": []
  },
  {
   "cell_type": "code",
   "execution_count": null,
   "id": "c059c5a8-192d-4a95-84bd-93425828c5f2",
   "metadata": {},
   "outputs": [],
   "source": [
    "#F -> C"
   ]
  },
  {
   "cell_type": "code",
   "execution_count": 5,
   "id": "c17f165a-5d56-4b31-9b83-e85b161ac1bd",
   "metadata": {},
   "outputs": [
    {
     "name": "stdin",
     "output_type": "stream",
     "text": [
      "Enter temperature here 13\n"
     ]
    },
    {
     "name": "stdout",
     "output_type": "stream",
     "text": [
      "Temperature in Celcius is  47.22222222222222\n"
     ]
    }
   ],
   "source": [
    "F=int(input(\"Enter temperature here\"))\n",
    "C=5*(F-32/9)\n",
    "print(\"Temperature in Celcius is \",C) "
   ]
  },
  {
   "cell_type": "code",
   "execution_count": null,
   "id": "a7a746c2-220f-4977-8448-d7aadb9d5fa9",
   "metadata": {},
   "outputs": [],
   "source": []
  },
  {
   "cell_type": "markdown",
   "id": "3925697b-9eed-43d6-85e8-6a7aebc11c0f",
   "metadata": {},
   "source": [
    "#Question 3"
   ]
  },
  {
   "cell_type": "code",
   "execution_count": null,
   "id": "4c454b32-2070-4b71-9c3a-6b78916a7db1",
   "metadata": {},
   "outputs": [],
   "source": [
    "#Explore the difference between division / and // in calculations"
   ]
  },
  {
   "cell_type": "markdown",
   "id": "c8b0c35c-604d-4f80-9102-d015dcf742ae",
   "metadata": {},
   "source": [
    "    1.  / -> pythone division operator. it perform standard division whcih may result in floating number\n",
    "    for example: result = 10/3\n",
    "    print(result) = 3.33333333\n",
    "\n",
    "    2. // -> Floor dividion operator. it perform division and round off the fractional part result to integer\n",
    "    for example: result =10//3\n",
    "    print(result) = 3\n",
    "\n",
    "\n",
    "\n",
    "\n"
   ]
  }
 ],
 "metadata": {
  "kernelspec": {
   "display_name": "Python 3 (ipykernel)",
   "language": "python",
   "name": "python3"
  },
  "language_info": {
   "codemirror_mode": {
    "name": "ipython",
    "version": 3
   },
   "file_extension": ".py",
   "mimetype": "text/x-python",
   "name": "python",
   "nbconvert_exporter": "python",
   "pygments_lexer": "ipython3",
   "version": "3.11.7"
  }
 },
 "nbformat": 4,
 "nbformat_minor": 5
}
